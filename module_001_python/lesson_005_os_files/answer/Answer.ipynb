{
 "cells": [
  {
   "cell_type": "markdown",
   "metadata": {},
   "source": [
    "# Задача 1\n",
    "* Копирование файла, в текущей папке есть изображение img1.jpg, нужно скопировать это изображение и назвать img2.jpg"
   ]
  },
  {
   "cell_type": "code",
   "execution_count": 3,
   "metadata": {},
   "outputs": [
    {
     "data": {
      "text/plain": [
       "'img2.jpg'"
      ]
     },
     "execution_count": 3,
     "metadata": {},
     "output_type": "execute_result"
    }
   ],
   "source": [
    "# ваш код\n",
    "import shutil\n",
    "\n",
    "shutil.copy('img1.jpg', 'img2.jpg')  "
   ]
  },
  {
   "cell_type": "code",
   "execution_count": 4,
   "metadata": {},
   "outputs": [],
   "source": [
    "with open('img1.jpg', 'rb') as fr:\n",
    "    with open('img3.jpg' , 'wb') as fw:\n",
    "        fw.write(fr.read())"
   ]
  },
  {
   "cell_type": "markdown",
   "metadata": {},
   "source": [
    "# Задача 2\n",
    "* В текущей директории лежит файл addresses.csv, прочитайте этот файл, выведите информацию о том сколько в нем записей(строк) и сколько признаков(колонок), добавьте каждой записи новую колонку country и запишите информацию в новый файл addresses2.csv"
   ]
  },
  {
   "cell_type": "code",
   "execution_count": 19,
   "metadata": {},
   "outputs": [
    {
     "name": "stdout",
     "output_type": "stream",
     "text": [
      "['John', 'Doe', '120 jefferson st.', 'Riverside', ' NJ', ' 08075']\n",
      "['John', 'Doe', '120 jefferson st.', 'Riverside', ' NJ', ' 08075', 'Canada']\n",
      "\n",
      "-------\n",
      "\n",
      "['Jack', 'McGinnis', '220 hobo Av.', 'Phila', ' PA', '09119']\n",
      "['Jack', 'McGinnis', '220 hobo Av.', 'Phila', ' PA', '09119', 'Canada']\n",
      "\n",
      "-------\n",
      "\n",
      "['John \"Da Man\"', 'Repici', '120 Jefferson St.', 'Riverside', ' NJ', '08075']\n",
      "['John \"Da Man\"', 'Repici', '120 Jefferson St.', 'Riverside', ' NJ', '08075', 'Great Britany']\n",
      "\n",
      "-------\n",
      "\n",
      "['Stephen', 'Tyler', '7452 Terrace \"At the Plaza\" road', 'SomeTown', 'SD', ' 91234']\n",
      "['Stephen', 'Tyler', '7452 Terrace \"At the Plaza\" road', 'SomeTown', 'SD', ' 91234', 'Canada']\n",
      "\n",
      "-------\n",
      "\n",
      "['', 'Blankman', '', 'SomeTown', ' SD', ' 00298']\n",
      "['', 'Blankman', '', 'SomeTown', ' SD', ' 00298', 'USA']\n",
      "\n",
      "-------\n",
      "\n",
      "['Joan \"the bone\", Anne', 'Jet', '9th, at Terrace plc', 'Desert City', 'CO', '00123']\n",
      "['Joan \"the bone\", Anne', 'Jet', '9th, at Terrace plc', 'Desert City', 'CO', '00123', 'Great Britany']\n",
      "\n",
      "-------\n",
      "\n",
      "\n",
      "\n",
      "\n",
      "Кол-во записей 6\n",
      "Кол-во признаков 6\n"
     ]
    }
   ],
   "source": [
    "# ваш код\n",
    "import csv\n",
    "import random\n",
    "\n",
    "def get_country():\n",
    "    random_value = random.randint(1,3)\n",
    "    if random_value == 1:\n",
    "        return 'USA'\n",
    "    elif random_value == 2:\n",
    "        return 'Great Britany'\n",
    "    else:\n",
    "        return 'Canada'\n",
    "\n",
    "with open('addresses.csv', 'r') as fr:\n",
    "    with open('addresses2.csv', 'w', newline='') as fw:\n",
    "        csv_reader = csv.reader(fr,delimiter=',')\n",
    "        csv_writer = csv.writer(fw, delimiter=',', quotechar='\"', quoting=csv.QUOTE_MINIMAL)\n",
    "        row_count = 0\n",
    "        column_count = 0\n",
    "        for line in csv_reader:\n",
    "            row_count+=1\n",
    "            column_count = len(line)\n",
    "            print(line)\n",
    "            line.append(get_country())\n",
    "            csv_writer.writerow(line)\n",
    "            print(line)\n",
    "            print('\\n-------\\n')\n",
    "\n",
    "        print('\\n\\n')\n",
    "        print('Кол-во записей', row_count)\n",
    "        print('Кол-во признаков', column_count)"
   ]
  },
  {
   "cell_type": "code",
   "execution_count": null,
   "metadata": {},
   "outputs": [],
   "source": []
  }
 ],
 "metadata": {
  "kernelspec": {
   "display_name": "Python 3",
   "language": "python",
   "name": "python3"
  },
  "language_info": {
   "codemirror_mode": {
    "name": "ipython",
    "version": 3
   },
   "file_extension": ".py",
   "mimetype": "text/x-python",
   "name": "python",
   "nbconvert_exporter": "python",
   "pygments_lexer": "ipython3",
   "version": "3.7.4"
  }
 },
 "nbformat": 4,
 "nbformat_minor": 2
}
