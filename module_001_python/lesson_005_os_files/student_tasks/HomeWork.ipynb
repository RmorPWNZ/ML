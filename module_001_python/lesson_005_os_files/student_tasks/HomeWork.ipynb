{
 "cells": [
  {
   "cell_type": "markdown",
   "metadata": {},
   "source": [
    "# Задача 1\n",
    "* Копирование файла, в текущей папке есть изображение img1.jpg, нужно скопировать это изображение и назвать img2.jpg\n",
    "\n",
    "Режимы открытия файла, можно прочитать здесь: https://www.w3schools.com/python/ref_func_open.asp"
   ]
  },
  {
   "cell_type": "code",
   "execution_count": 20,
   "metadata": {},
   "outputs": [
    {
     "ename": "TypeError",
     "evalue": "argument should be integer or None, not 'str'",
     "output_type": "error",
     "traceback": [
      "\u001b[1;31m---------------------------------------------------------------------------\u001b[0m",
      "\u001b[1;31mTypeError\u001b[0m                                 Traceback (most recent call last)",
      "\u001b[1;32m<ipython-input-20-88e3662b16fa>\u001b[0m in \u001b[0;36m<module>\u001b[1;34m\u001b[0m\n\u001b[0;32m      6\u001b[0m \u001b[0mshutil\u001b[0m\u001b[1;33m.\u001b[0m\u001b[0mcopyfile\u001b[0m\u001b[1;33m(\u001b[0m\u001b[1;34m\"img1.jpg\"\u001b[0m\u001b[1;33m,\u001b[0m\u001b[1;34m\"img2.jpg\"\u001b[0m\u001b[1;33m)\u001b[0m\u001b[1;33m\u001b[0m\u001b[1;33m\u001b[0m\u001b[0m\n\u001b[0;32m      7\u001b[0m \u001b[1;32mwith\u001b[0m \u001b[0mopen\u001b[0m\u001b[1;33m(\u001b[0m\u001b[1;34m\"img2.jpg\"\u001b[0m\u001b[1;33m,\u001b[0m\u001b[1;34m\"w\"\u001b[0m\u001b[1;33m)\u001b[0m \u001b[1;32mas\u001b[0m \u001b[0mfw\u001b[0m\u001b[1;33m:\u001b[0m\u001b[1;33m\u001b[0m\u001b[1;33m\u001b[0m\u001b[0m\n\u001b[1;32m----> 8\u001b[1;33m     \u001b[0mprint\u001b[0m\u001b[1;33m(\u001b[0m\u001b[0mfw\u001b[0m\u001b[1;33m.\u001b[0m\u001b[0mread\u001b[0m\u001b[1;33m(\u001b[0m\u001b[1;34m\"img2.jpg\"\u001b[0m\u001b[1;33m)\u001b[0m\u001b[1;33m)\u001b[0m\u001b[1;33m\u001b[0m\u001b[1;33m\u001b[0m\u001b[0m\n\u001b[0m",
      "\u001b[1;31mTypeError\u001b[0m: argument should be integer or None, not 'str'"
     ]
    }
   ],
   "source": [
    "import os\n",
    "import shutil\n",
    "\n",
    "\n",
    "f=open(\"img2.jpg\",\"w\")\n",
    "shutil.copyfile(\"img1.jpg\",\"img2.jpg\")\n",
    "with open(\"img2.jpg\",\"w\") as fw:\n",
    "    print(fw.read(\"img2.jpg\"))"
   ]
  },
  {
   "cell_type": "markdown",
   "metadata": {},
   "source": [
    "# Задача 2\n",
    "* В текущей директории лежит файл addresses.csv, прочитайте этот файл, выведите информацию о том сколько в нем записей(строк) и сколько признаков(колонок), добавьте каждой записи новую колонку country и запишите информацию в новый файл addresses2.csv\n",
    "\n",
    "Информация о writer - https://docs.python.org/3/library/csv.html"
   ]
  },
  {
   "cell_type": "code",
   "execution_count": 9,
   "metadata": {},
   "outputs": [
    {
     "name": "stdout",
     "output_type": "stream",
     "text": [
      "d:\\WorkPlace\\Tree\\module_001_python\\lesson_005_os_files\\datasets\n",
      "d:\\WorkPlace\\Tree\\module_001_python\\lesson_005_os_files\\datasets\n",
      "['heart.csv', 'test.json', 'test1.json']\n",
      "lalala\n",
      "строчка вместо\n",
      "строчка вместо+ строчка\n"
     ]
    }
   ],
   "source": [
    "import os\n",
    "\n",
    "print(os.getcwd())\n",
    "os.chdir(\"..\\\\datasets\")\n",
    "print(os.getcwd())\n",
    "print(os.listdir())\n",
    "with open(\"test1.json\",'w') as f:\n",
    "    f.write(\"lalala\")\n",
    "with open('test1.json','r') as f:\n",
    "    print(f.read())\n",
    "    \n",
    "with open(\"test1.json\",'w') as f:\n",
    "    f.write(\"строчка вместо\")\n",
    "with open('test1.json','r') as f:\n",
    "    print(f.read())    \n",
    "    \n",
    "with open(\"test1.json\",'a+') as f:\n",
    "    f.write(\"+ строчка\")\n",
    "with open('test1.json','r') as f:\n",
    "    print(f.read())    "
   ]
  },
  {
   "cell_type": "code",
   "execution_count": null,
   "metadata": {},
   "outputs": [],
   "source": []
  }
 ],
 "metadata": {
  "kernelspec": {
   "display_name": "Python 3",
   "language": "python",
   "name": "python3"
  },
  "language_info": {
   "codemirror_mode": {
    "name": "ipython",
    "version": 3
   },
   "file_extension": ".py",
   "mimetype": "text/x-python",
   "name": "python",
   "nbconvert_exporter": "python",
   "pygments_lexer": "ipython3",
   "version": "3.7.4"
  }
 },
 "nbformat": 4,
 "nbformat_minor": 2
}
