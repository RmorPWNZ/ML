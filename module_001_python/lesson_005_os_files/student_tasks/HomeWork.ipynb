{
 "cells": [
  {
   "cell_type": "markdown",
   "metadata": {},
   "source": [
    "# Задача 1\n",
    "* Копирование файла, в текущей папке есть изображение img1.jpg, нужно скопировать это изображение и назвать img2.jpg\n",
    "\n",
    "Режимы открытия файла, можно прочитать здесь: https://www.w3schools.com/python/ref_func_open.asp"
   ]
  },
  {
   "cell_type": "code",
   "execution_count": 1,
   "metadata": {},
   "outputs": [],
   "source": [
    "# ваш код"
   ]
  },
  {
   "cell_type": "markdown",
   "metadata": {},
   "source": [
    "# Задача 2\n",
    "* В текущей директории лежит файл addresses.csv, прочитайте этот файл, выведите информацию о том сколько в нем записей(строк) и сколько признаков(колонок), добавьте каждой записи новую колонку country и запишите информацию в новый файл addresses2.csv\n",
    "\n",
    "Информация о writer - https://docs.python.org/3/library/csv.html"
   ]
  },
  {
   "cell_type": "code",
   "execution_count": 9,
   "metadata": {},
   "outputs": [
    {
     "name": "stdout",
     "output_type": "stream",
     "text": [
      "d:\\WorkPlace\\Tree\\module_001_python\\lesson_005_os_files\\datasets\n",
      "d:\\WorkPlace\\Tree\\module_001_python\\lesson_005_os_files\\datasets\n",
      "['heart.csv', 'test.json', 'test1.json']\n",
      "lalala\n",
      "строчка вместо\n",
      "строчка вместо+ строчка\n"
     ]
    }
   ],
   "source": [
    "import os\n",
    "\n",
    "print(os.getcwd())\n",
    "os.chdir(\"..\\\\datasets\")\n",
    "print(os.getcwd())\n",
    "print(os.listdir())\n",
    "with open(\"test1.json\",'w') as f:\n",
    "    f.write(\"lalala\")\n",
    "with open('test1.json','r') as f:\n",
    "    print(f.read())\n",
    "    \n",
    "with open(\"test1.json\",'w') as f:\n",
    "    f.write(\"строчка вместо\")\n",
    "with open('test1.json','r') as f:\n",
    "    print(f.read())    \n",
    "    \n",
    "with open(\"test1.json\",'a+') as f:\n",
    "    f.write(\"+ строчка\")\n",
    "with open('test1.json','r') as f:\n",
    "    print(f.read())    "
   ]
  },
  {
   "cell_type": "code",
   "execution_count": null,
   "metadata": {},
   "outputs": [],
   "source": []
  }
 ],
 "metadata": {
  "kernelspec": {
   "display_name": "Python 3",
   "language": "python",
   "name": "python3"
  },
  "language_info": {
   "codemirror_mode": {
    "name": "ipython",
    "version": 3
   },
   "file_extension": ".py",
   "mimetype": "text/x-python",
   "name": "python",
   "nbconvert_exporter": "python",
   "pygments_lexer": "ipython3",
   "version": "3.7.4"
  }
 },
 "nbformat": 4,
 "nbformat_minor": 2
}
