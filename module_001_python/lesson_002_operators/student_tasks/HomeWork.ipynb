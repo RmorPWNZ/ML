{
 "cells": [
  {
   "cell_type": "markdown",
   "metadata": {},
   "source": [
    "# Задача 1\n",
    "\n",
    "Фильтр по квартирам. Есть информация о квартире, проверить следующие условия:\n",
    "* Цена меньше 3млн и 2 комнатная, но не в центре\n",
    "* В центре, не на первых этажах (1-3) и должен быть лифт\n",
    "* Без лифта и цена от 1млн до 2.5 млн"
   ]
  },
  {
   "cell_type": "code",
   "execution_count": 8,
   "metadata": {},
   "outputs": [
    {
     "name": "stdout",
     "output_type": "stream",
     "text": [
      "2000000\n"
     ]
    }
   ],
   "source": [
    "# Цена квартиры\n",
    "price = 2_000_000\n",
    "\n",
    "# Кол-во комнат\n",
    "rooms = 1\n",
    "\n",
    "# Расположение в городе\n",
    "location = \"center\"\n",
    "print(price)\n",
    "# Наличие лифта\n",
    "elevator = True\n",
    "\n",
    "# Этаж\n",
    "floor = 7"
   ]
  },
  {
   "cell_type": "code",
   "execution_count": 24,
   "metadata": {},
   "outputs": [
    {
     "name": "stdout",
     "output_type": "stream",
     "text": [
      "False\n"
     ]
    }
   ],
   "source": [
    "# Пишите здесь свой код\n",
    "# Цена квартиры\n",
    "price = 2_000_000\n",
    "\n",
    "# Кол-во комнат\n",
    "rooms = 1\n",
    "\n",
    "# Расположение в городе\n",
    "location = \"center\"\n",
    "\n",
    "# Наличие лифта\n",
    "elevator = True\n",
    "\n",
    "# Этаж\n",
    "floor = 7\n",
    "result=False\n",
    "class Apartment(object):\n",
    "    def __init__(self,price,rooms,location,elevator,floor):\n",
    "        self.price=price\n",
    "        self.rooms=rooms\n",
    "        self.location=location\n",
    "        self.elevator=elevator\n",
    "        self.floor=floor\n",
    "    def filtr(self,result):\n",
    "        if (self.location!=\"center\" and self.price<=3_000_000 and self.rooms==2) or (self.location ==\"center\" and self.floor>3 and self.elevator==True) or (self.elevator==False and self.price>=1_000_000 and self.price<=2_500_000):\n",
    "            self.result=True\n",
    "            return(self.result)\n",
    "        else:return(self.result)    \n",
    "            \n",
    "ap=Apartment(price,rooms,location,elevator,floor)\n",
    "ap.filtr(result)\n",
    "print(result)"
   ]
  },
  {
   "cell_type": "markdown",
   "metadata": {},
   "source": [
    "# Задача 2\n",
    "\n",
    "* Вывести числа от 100 до 0, с шагом в 5"
   ]
  },
  {
   "cell_type": "code",
   "execution_count": 35,
   "metadata": {},
   "outputs": [
    {
     "name": "stdout",
     "output_type": "stream",
     "text": [
      "100\n",
      "95\n",
      "90\n",
      "85\n",
      "80\n",
      "75\n",
      "70\n",
      "65\n",
      "60\n",
      "55\n",
      "50\n",
      "45\n",
      "40\n",
      "35\n",
      "30\n",
      "25\n",
      "20\n",
      "15\n",
      "10\n",
      "5\n",
      "0\n"
     ]
    }
   ],
   "source": [
    "# пишите здесь своprinй код\n",
    "for i in range(100,-1,-5):\n",
    "    print(i)    "
   ]
  },
  {
   "cell_type": "markdown",
   "metadata": {},
   "source": [
    "# Задача 3\n",
    "* Напечатать список простых чисел от 2 до 1000 - http://ru.math.wikia.com/wiki/%D0%9F%D1%80%D0%BE%D1%81%D1%82%D0%BE%D0%B5_%D1%87%D0%B8%D1%81%D0%BB%D0%BE"
   ]
  },
  {
   "cell_type": "code",
   "execution_count": 36,
   "metadata": {},
   "outputs": [
    {
     "ename": "ZeroDivisionError",
     "evalue": "integer division or modulo by zero",
     "output_type": "error",
     "traceback": [
      "\u001b[1;31m---------------------------------------------------------------------------\u001b[0m",
      "\u001b[1;31mZeroDivisionError\u001b[0m                         Traceback (most recent call last)",
      "\u001b[1;32m<ipython-input-36-17da6b7e6a61>\u001b[0m in \u001b[0;36m<module>\u001b[1;34m\u001b[0m\n\u001b[0;32m      1\u001b[0m \u001b[1;31m# пишите здесь свой код\u001b[0m\u001b[1;33m\u001b[0m\u001b[1;33m\u001b[0m\u001b[1;33m\u001b[0m\u001b[0m\n\u001b[0;32m      2\u001b[0m \u001b[1;32mfor\u001b[0m \u001b[0mi\u001b[0m \u001b[1;32min\u001b[0m \u001b[0mrange\u001b[0m\u001b[1;33m(\u001b[0m\u001b[1;36m1000\u001b[0m\u001b[1;33m)\u001b[0m\u001b[1;33m:\u001b[0m\u001b[1;33m\u001b[0m\u001b[1;33m\u001b[0m\u001b[0m\n\u001b[1;32m----> 3\u001b[1;33m     \u001b[1;32mif\u001b[0m \u001b[0mi\u001b[0m\u001b[1;33m%\u001b[0m\u001b[0mi\u001b[0m \u001b[1;32mand\u001b[0m \u001b[0mi\u001b[0m\u001b[1;33m%\u001b[0m\u001b[1;36m1\u001b[0m\u001b[1;33m:\u001b[0m\u001b[1;33m\u001b[0m\u001b[1;33m\u001b[0m\u001b[0m\n\u001b[0m\u001b[0;32m      4\u001b[0m         \u001b[0mprint\u001b[0m\u001b[1;33m(\u001b[0m\u001b[0mi\u001b[0m\u001b[1;33m)\u001b[0m\u001b[1;33m\u001b[0m\u001b[1;33m\u001b[0m\u001b[0m\n",
      "\u001b[1;31mZeroDivisionError\u001b[0m: integer division or modulo by zero"
     ]
    }
   ],
   "source": [
    "# пишите здесь свой код\n",
    "for i in range(1000):\n",
    "    if\n",
    "        print(i)"
   ]
  },
  {
   "cell_type": "code",
   "execution_count": null,
   "metadata": {},
   "outputs": [],
   "source": []
  }
 ],
 "metadata": {
  "kernelspec": {
   "display_name": "Python 3",
   "language": "python",
   "name": "python3"
  },
  "language_info": {
   "codemirror_mode": {
    "name": "ipython",
    "version": 3
   },
   "file_extension": ".py",
   "mimetype": "text/x-python",
   "name": "python",
   "nbconvert_exporter": "python",
   "pygments_lexer": "ipython3",
   "version": "3.7.4"
  }
 },
 "nbformat": 4,
 "nbformat_minor": 2
}
