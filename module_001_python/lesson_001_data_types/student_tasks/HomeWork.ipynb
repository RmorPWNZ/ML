{
 "cells": [
  {
   "cell_type": "code",
   "execution_count": 5,
   "metadata": {},
   "outputs": [
    {
     "name": "stdout",
     "output_type": "stream",
     "text": [
      "Артемида Олегович\n",
      "Артемида Олего\n",
      "Артемида Олегович Артемида Олего вич\n",
      "вич\n"
     ]
    }
   ],
   "source": [
    "m=\"Артемида Олегович\"\n",
    "print(m)\n",
    "print(m[:-3])\n",
    "print(m[:-3]+m[-3:],m[:-3],m[-3:])\n",
    "print(m[-3:])"
   ]
  },
  {
   "cell_type": "markdown",
   "metadata": {},
   "source": [
    "# Задача 1\n",
    "\n",
    "Дан текст, выполнить с ним следующие операции:\n",
    "* Вывести длину текста\n",
    "* Заменить буквы 'о' на буквы 'а'\n",
    "* Удалить слова 'не' и 'ни'"
   ]
  },
  {
   "cell_type": "code",
   "execution_count": 2,
   "metadata": {},
   "outputs": [],
   "source": [
    "quote = \"\"\"\n",
    "Будучи вне дома, держите себя так, словно принимаете почетных гостей.\n",
    "Пользуясь услугами людей, ведите себя так, словно свершаете торжественный обряд.\n",
    "Не делайте другим того, чего себе не пожелаете.\n",
    "Тогда ни в государстве, ни в семье не будет недовольства.\n",
    "\"\"\""
   ]
  },
  {
   "cell_type": "code",
   "execution_count": 3,
   "metadata": {},
   "outputs": [],
   "source": [
    "# Пишите свой код\n",
    "\n"
   ]
  },
  {
   "cell_type": "markdown",
   "metadata": {},
   "source": [
    "# Задача 2\n",
    "\n",
    "Сложные проценты - https://ru.onlinemschool.com/math/library/percent/percent10/\n",
    "\n",
    "Пользователь желает положить деньги под проценты на определенный срок. Банк каждый год начисляет 8% годовых. Вычислить полученную сумму в конце срока.\n",
    "\n",
    "Доп. задача, распишите прибыль за каждый год. (можно использовать циклы если знаете, но можно и без)\n",
    "\n",
    "Онлайн калькулятор, для проверки ответов: https://wpcalc.com/slozhnyj-procent/"
   ]
  },
  {
   "cell_type": "code",
   "execution_count": 4,
   "metadata": {},
   "outputs": [],
   "source": [
    "# сумма пользователя в рублях, которую он положит в банк\n",
    "source_amt = 412500\n",
    "\n",
    "# годовой процент\n",
    "annual_interest = 8\n",
    "\n",
    "# срок в 5 лет\n",
    "time = 5\n",
    "\n",
    "# в эту переменную нужно записать ответ\n",
    "result = -1"
   ]
  },
  {
   "cell_type": "code",
   "execution_count": 6,
   "metadata": {},
   "outputs": [
    {
     "name": "stdout",
     "output_type": "stream",
     "text": [
      "Изначальный вклад: 412500\n",
      "год: 1 445500.0\n",
      "год: 2 481140.0\n",
      "год: 3 519631.2\n",
      "год: 4 561201.696\n",
      "год: 5 606097.83168\n",
      "606097.83168\n",
      "Изначальный вклад: 12\n",
      "год: 1 13.44\n",
      "год: 2 15.0528\n",
      "год: 3 16.859136\n",
      "год: 4 18.88223232\n",
      "год: 5 21.1481001984\n",
      "21.1481001984\n"
     ]
    }
   ],
   "source": [
    "# Пишите свой код\n",
    "source_amt=412500\n",
    "annual_interest=8\n",
    "time=5\n",
    "result=-1\n",
    "class Bank(object):\n",
    "    def __init__(self,sum,years,rate,result):\n",
    "        self.sum=sum\n",
    "        self.years=years\n",
    "        self.rate=rate*0.01\n",
    "    def result(self):\n",
    "        self.result=self.sum\n",
    "        print(\"Изначальный вклад:\",self.result)\n",
    "        for i in range(self.years):\n",
    "            self.result+=self.result*self.rate\n",
    "            print(\"год:\",i+1,self.result)\n",
    "        return(self.result)\n",
    "\n",
    "user=Bank(source_amt,time,annual_interest,result)\n",
    "user2=Bank(12,5,12,result)\n",
    "print(user.result())\n",
    "print(user2.result())"
   ]
  },
  {
   "cell_type": "code",
   "execution_count": null,
   "metadata": {},
   "outputs": [],
   "source": []
  }
 ],
 "metadata": {
  "kernelspec": {
   "display_name": "Python 3",
   "language": "python",
   "name": "python3"
  },
  "language_info": {
   "codemirror_mode": {
    "name": "ipython",
    "version": 3
   },
   "file_extension": ".py",
   "mimetype": "text/x-python",
   "name": "python",
   "nbconvert_exporter": "python",
   "pygments_lexer": "ipython3",
   "version": "3.7.4"
  }
 },
 "nbformat": 4,
 "nbformat_minor": 2
}
