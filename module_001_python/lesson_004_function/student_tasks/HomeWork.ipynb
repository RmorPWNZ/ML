{
 "cells": [
  {
   "cell_type": "markdown",
   "metadata": {},
   "source": [
    "# Задача 1\n",
    "Проектирование функций для построения обучающих моделей по данным. В данной задача вам нужно разработать прототипы функций(объявление функций без реализаций) для задачи анализа данных из машинного обучения, должны быть учтены следующие шаги:\n",
    "* Загрузка данных из внешних источников\n",
    "* Обработка не заданных значений - пропусков\n",
    "* Удаление не информативных признаков и объектов\n",
    "* Получение модели для обучения\n",
    "* Оценка качества модели\n",
    "* Сохранение модели в файл"
   ]
  },
  {
   "cell_type": "code",
   "execution_count": 2,
   "metadata": {},
   "outputs": [],
   "source": [
    "def prototype(params1, lambda1):\n",
    "    pass\n",
    "\n",
    "prototype((1,2), lambda x: x/2)"
   ]
  },
  {
   "cell_type": "markdown",
   "metadata": {},
   "source": [
    "# Задача 2\n",
    "Задача повышенной сложности. Реализовать вывод треугольника паскаля, через функцию. Пример треугольника:\n",
    "![pascal triangle](pascal.png)\n",
    "Глубина 10 по умолчанию"
   ]
  },
  {
   "cell_type": "code",
   "execution_count": 49,
   "metadata": {},
   "outputs": [],
   "source": [
    "def TriangleP(deep=10):\n",
    "    n=0\n",
    "    for i in range(deep):\n",
    "            for j in range(i): \n",
    "                if j==i:\n",
    "                    print(\"n=\",n,j,\"\\n\")\n",
    "                else:  print(\"n=\",n,j,\"\\t\")\n",
    "            n+=1\n",
    "TriangleP(0)                    "
   ]
  },
  {
   "cell_type": "code",
   "execution_count": 80,
   "metadata": {},
   "outputs": [
    {
     "name": "stdout",
     "output_type": "stream",
     "text": [
      "0\n",
      "[1, 1]\n",
      "1\n",
      "[1, 2, 1]\n",
      "2\n",
      "[1, 2, 3, 1]\n",
      "3\n",
      "[1, 2, 3, 5, 1]\n",
      "4\n",
      "[1, 2, 3, 5, 8, 1]\n",
      "5\n",
      "[1, 2, 3, 5, 8, 13, 1]\n",
      "6\n",
      "[1, 2, 3, 5, 8, 13, 21, 1]\n",
      "7\n",
      "[1, 2, 3, 5, 8, 13, 21, 34, 1]\n",
      "8\n",
      "[1, 2, 3, 5, 8, 13, 21, 34, 55, 1]\n",
      "9\n",
      "[1, 2, 3, 5, 8, 13, 21, 34, 55, 89, 1]\n"
     ]
    }
   ],
   "source": [
    "def tri(deep=10):\n",
    "    a=[1]\n",
    "    for i in range(deep):\n",
    "        print(i)\n",
    "        if i==0:\n",
    "            a.append(1)\n",
    "        elif i!=0:\n",
    "            a.insert(i,a[i-1]+a[i-2])\n",
    "        print(a)    \n",
    "tri()            "
   ]
  },
  {
   "cell_type": "code",
   "execution_count": null,
   "metadata": {},
   "outputs": [],
   "source": []
  }
 ],
 "metadata": {
  "kernelspec": {
   "display_name": "Python 3",
   "language": "python",
   "name": "python3"
  },
  "language_info": {
   "codemirror_mode": {
    "name": "ipython",
    "version": 3
   },
   "file_extension": ".py",
   "mimetype": "text/x-python",
   "name": "python",
   "nbconvert_exporter": "python",
   "pygments_lexer": "ipython3",
   "version": "3.7.4"
  }
 },
 "nbformat": 4,
 "nbformat_minor": 2
}
