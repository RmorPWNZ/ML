{
 "cells": [
  {
   "cell_type": "markdown",
   "metadata": {},
   "source": [
    "# Задача 1\n",
    "Проектирование функций для построения обучающих моделей по данным. В данной задача вам нужно разработать прототипы функций(объявление функций без реализаций) для задачи анализа данных из машинного обучения, должны быть учтены следующие шаги:\n",
    "* Загрузка данных из внешних источников\n",
    "* Обработка не заданных значений - пропусков\n",
    "* Удаление не информативных признаков и объектов\n",
    "* Получение модели для обучения\n",
    "* Оценка качества модели\n",
    "* Сохранение модели в файл"
   ]
  },
  {
   "cell_type": "code",
   "execution_count": 2,
   "metadata": {},
   "outputs": [],
   "source": [
    "def prototype(params1, lambda1):\n",
    "    pass\n",
    "\n",
    "prototype((1,2), lambda x: x/2)"
   ]
  },
  {
   "cell_type": "markdown",
   "metadata": {},
   "source": [
    "# Задача 2\n",
    "Задача повышенной сложности. Реализовать вывод треугольника паскаля, через функцию. Пример треугольника:\n",
    "![pascal triangle](pascal.png)\n",
    "Глубина 10 по умолчанию"
   ]
  },
  {
   "cell_type": "code",
   "execution_count": 49,
   "metadata": {},
   "outputs": [],
   "source": [
    "def TriangleP(deep=10):\n",
    "    n=0\n",
    "    for i in range(deep):\n",
    "            for j in range(i): \n",
    "                if j==i:\n",
    "                    print(\"n=\",n,j,\"\\n\")\n",
    "                else:  print(\"n=\",n,j,\"\\t\")\n",
    "            n+=1\n",
    "TriangleP(0)                    "
   ]
  },
  {
   "cell_type": "code",
   "execution_count": 22,
   "metadata": {},
   "outputs": [
    {
     "name": "stdout",
     "output_type": "stream",
     "text": [
      "0\n",
      "1\n",
      "1\n",
      "2\n",
      "2\n",
      "2\n",
      "3\n",
      "2\n",
      "4\n",
      "2\n",
      "5\n",
      "2\n",
      "6\n",
      "2\n",
      "7\n",
      "2\n",
      "8\n",
      "2\n",
      "9\n",
      "2\n"
     ]
    }
   ],
   "source": [
    "def tri(deep=10):\n",
    "    a=[1]\n",
    "    for i in range(deep):\n",
    "        print(i)\n",
    "        if i==0:\n",
    "            a.append(1)\n",
    "        elif i!=0:\n",
    "            a.insert(i,a[i-1]+a[i-2])\n",
    "        print(a[1])    \n",
    "tri()            "
   ]
  },
  {
   "cell_type": "code",
   "execution_count": 90,
   "metadata": {},
   "outputs": [
    {
     "name": "stdout",
     "output_type": "stream",
     "text": [
      "[1]\n",
      "[1, 1]\n",
      "2 1 1\n",
      "[2, 1] b\n",
      "[1, 2, 1]\n",
      "3 1\n",
      "3 2\n",
      "[1, 3, 4]\n",
      "4 1 1\n",
      "4 2 1\n",
      "[8, 4, 1, 1, 2] b\n",
      "[1, 4, 8, 4, 1, 1, 2]\n",
      "5 1\n",
      "5 2\n",
      "5 3\n",
      "5 4\n",
      "[1, 5, 13, 17, 18, 1, 2]\n"
     ]
    }
   ],
   "source": [
    "import math\n",
    "def Tr(deep=10):\n",
    "                b=[]\n",
    "                for i in range(deep):\n",
    "                    if i==0:\n",
    "                        a=[1]\n",
    "                        print(a)\n",
    "                    elif i==1:\n",
    "                        a=[1,1]\n",
    "                        print(a)\n",
    "                    else:\n",
    "                         for j in range (i):\n",
    "                                if j!=0 and j<=i/2 and not(i%2):\n",
    "                                        print(i,j,1)\n",
    "                                        a.insert(j,a[j]+a[j-1])\n",
    "                                        a.pop(j+1)\n",
    "                                        if j==i/2:\n",
    "                                            b.extend(a)\n",
    "                                            b.reverse()\n",
    "                                            print(b,\"b\")\n",
    "                                            a.extend(b)\n",
    "                                            a.pop(j)\n",
    "                                elif j!=0 and j<=math.ceil(i/2)+1 and i%2:\n",
    "                                        print(i,j)\n",
    "                                        a.insert(j,a[j]+a[j-1])\n",
    "                                        a.pop(j+1)\n",
    "                                        if j==i/2+1:\n",
    "                                            b.extend(a)\n",
    "                                            b.reverse()\n",
    "                                            print(b,\"b\")\n",
    "                                            a.extend(b)\n",
    "                                            a.pop(j)\n",
    "                         print(a)\n",
    "\n",
    "            \n",
    "Tr(6)            "
   ]
  },
  {
   "cell_type": "code",
   "execution_count": null,
   "metadata": {},
   "outputs": [],
   "source": []
  }
 ],
 "metadata": {
  "kernelspec": {
   "display_name": "Python 3",
   "language": "python",
   "name": "python3"
  },
  "language_info": {
   "codemirror_mode": {
    "name": "ipython",
    "version": 3
   },
   "file_extension": ".py",
   "mimetype": "text/x-python",
   "name": "python",
   "nbconvert_exporter": "python",
   "pygments_lexer": "ipython3",
   "version": "3.7.4"
  }
 },
 "nbformat": 4,
 "nbformat_minor": 2
}
